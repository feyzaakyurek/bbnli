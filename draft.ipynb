{
 "cells": [
  {
   "cell_type": "code",
   "execution_count": 12,
   "metadata": {},
   "outputs": [],
   "source": [
    "import json\n",
    "import pandas as pd\n",
    "import jinja2\n",
    "from jinja2.nativetypes import NativeEnvironment"
   ]
  },
  {
   "cell_type": "code",
   "execution_count": 13,
   "metadata": {},
   "outputs": [],
   "source": [
    "filename=\"data/nli/gender/man_is_to_programmer.json\"\n",
    "with open(filename, \"r\") as f:\n",
    "    inp = json.load(f)\n",
    "env = NativeEnvironment()    "
   ]
  },
  {
   "cell_type": "code",
   "execution_count": 21,
   "metadata": {},
   "outputs": [],
   "source": [
    "group1 = inp[\"GROUP1\"][0]\n",
    "group2 = inp[\"GROUP2\"][0]\n",
    "name = inp[\"name\"].replace(\" \", \"_\")\n",
    "df = pd.DataFrame(columns=[\"domain\",\n",
    "                           \"premise_id\",\n",
    "                           \"premise\",\n",
    "                           \"hypothesis_type\",\n",
    "                           \"hypothesis\",\n",
    "                           \"true_label\",\n",
    "                           \"bias_label\",\n",
    "                           \"reference\"\n",
    "                           ])\n",
    "replace_dict = {\"{{MJOB}}\"}\n",
    "for ind,pre in enumerate(inp['premise']):\n",
    "#     for job in inp['MJOB_list']:\n",
    "    pre = env.from_string(pre).render(MJOB=\"software engineering\", GROUP1=group1, GROUP2=group2)\n",
    "    for test_hyp,test_hyp_l in inp['test_hypothesis']:\n",
    "        test_hyp = env.from_string(test_hyp).render(MJOB=\"software_engineering\", GROUP1=group1, GROUP2=group2)\n",
    "        df.loc[len(df)] = [inp['domain'],name+\"_premise\"+str(ind), pre, \"test\", test_hyp, test_hyp_l, -1, inp['reference'][ind]]\n",
    "    for hyp, label, bias_label in inp['bias_hypothesis_stereotypical']:\n",
    "        hyp = env.from_string(hyp).render(MJOB=\"software_engineering\", GROUP1=group1, GROUP2=group2)\n",
    "        df.loc[len(df)] = [inp['domain'],name+\"_premise\"+str(ind), pre, \"stereotypical\", hyp, label, bias_label, inp['reference'][ind]]\n",
    "    for hyp, label, bias_label in inp['bias_hypothesis_anti-stereotypical']:\n",
    "        hyp = env.from_string(hyp).render(MJOB=\"software_engineering\", GROUP1=group1, GROUP2=group2)\n",
    "        df.loc[len(df)] = [inp['domain'],name+\"_premise\"+str(ind), pre, \"anti-stereotypical\", hyp, label, bias_label, inp['reference'][ind]]\n",
    "        "
   ]
  },
  {
   "cell_type": "code",
   "execution_count": 23,
   "metadata": {},
   "outputs": [
    {
     "data": {
      "text/plain": [
       "('data/nli/gender', 'man_is_to_programmer.json')"
      ]
     },
     "execution_count": 23,
     "metadata": {},
     "output_type": "execute_result"
    }
   ],
   "source": [
    "import os\n",
    "os.path.split(\"data/nli/gender/man_is_to_programmer.json\")"
   ]
  },
  {
   "cell_type": "code",
   "execution_count": null,
   "metadata": {},
   "outputs": [],
   "source": []
  }
 ],
 "metadata": {
  "kernelspec": {
   "display_name": "Python 3",
   "language": "python",
   "name": "python3"
  },
  "language_info": {
   "codemirror_mode": {
    "name": "ipython",
    "version": 3
   },
   "file_extension": ".py",
   "mimetype": "text/x-python",
   "name": "python",
   "nbconvert_exporter": "python",
   "pygments_lexer": "ipython3",
   "version": "3.8.3"
  }
 },
 "nbformat": 4,
 "nbformat_minor": 4
}
